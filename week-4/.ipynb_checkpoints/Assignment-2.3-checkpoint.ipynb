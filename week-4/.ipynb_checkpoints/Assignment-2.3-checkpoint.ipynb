{
 "cells": [
  {
   "cell_type": "markdown",
   "metadata": {},
   "source": [
    "    Q-2.3 : Write a program to prompt the user for hours and rate per hour using raw_input to compute gross pay.\n",
    "     Use 35 hours and a rate of 2.75 per hour to test the program (the pay should be 96.25).\n",
    "     You should use raw_input to read a string and float() to convert the string to a number.\n",
    "     Do not worry about error checking or bad user data."
   ]
  },
  {
   "cell_type": "code",
   "execution_count": 1,
   "metadata": {},
   "outputs": [
    {
     "name": "stdout",
     "output_type": "stream",
     "text": [
      "Enter Hours:35\n",
      "Enter Rate:2.75\n",
      "96.25\n"
     ]
    }
   ],
   "source": [
    "# code:\n",
    "hrs = float(input(\"Enter Hours:\"))\n",
    "rate = float(input(\"Enter Rate:\"))\n",
    "pay=hrs*rate\n",
    "print(pay)"
   ]
  },
  {
   "cell_type": "code",
   "execution_count": null,
   "metadata": {},
   "outputs": [],
   "source": []
  }
 ],
 "metadata": {
  "kernelspec": {
   "display_name": "Python 3",
   "language": "python",
   "name": "python3"
  },
  "language_info": {
   "codemirror_mode": {
    "name": "ipython",
    "version": 3
   },
   "file_extension": ".py",
   "mimetype": "text/x-python",
   "name": "python",
   "nbconvert_exporter": "python",
   "pygments_lexer": "ipython3",
   "version": "3.7.7"
  }
 },
 "nbformat": 4,
 "nbformat_minor": 4
}
