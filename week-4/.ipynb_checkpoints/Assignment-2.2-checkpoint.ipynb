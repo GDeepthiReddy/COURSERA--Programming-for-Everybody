{
 "cells": [
  {
   "cell_type": "markdown",
   "metadata": {},
   "source": [
    "    Q-2.2 : Write a program that uses raw_input to prompt a user for their name and then welcomes them.\n",
    "     Note that raw_input will pop up a dialog box.\n",
    "    Enter Sarah in the pop-up box when you are prompted so your output will match the desired output."
   ]
  },
  {
   "cell_type": "code",
   "execution_count": 1,
   "metadata": {},
   "outputs": [
    {
     "name": "stdout",
     "output_type": "stream",
     "text": [
      "Enter your name : Sarah\n",
      "Hello Sarah\n"
     ]
    }
   ],
   "source": [
    "# code:\n",
    "name = input(\"Enter your name : \")\n",
    "print(\"Hello\",name)"
   ]
  },
  {
   "cell_type": "code",
   "execution_count": null,
   "metadata": {},
   "outputs": [],
   "source": []
  }
 ],
 "metadata": {
  "kernelspec": {
   "display_name": "Python 3",
   "language": "python",
   "name": "python3"
  },
  "language_info": {
   "codemirror_mode": {
    "name": "ipython",
    "version": 3
   },
   "file_extension": ".py",
   "mimetype": "text/x-python",
   "name": "python",
   "nbconvert_exporter": "python",
   "pygments_lexer": "ipython3",
   "version": "3.7.7"
  }
 },
 "nbformat": 4,
 "nbformat_minor": 4
}
