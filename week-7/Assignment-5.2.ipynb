{
 "cells": [
  {
   "cell_type": "markdown",
   "metadata": {},
   "source": [
    "Q-5.2 : Write a program that repeatedly prompts a user for integer numbers until the\n",
    "user enters 'done'. Once 'done' is entered, print out the largest and smallest of\n",
    "the numbers. If the user enters anything other than a valid number catch it with\n",
    "a try/except and put out an appropriate message and ignore the number. Enter the\n",
    "numbers from the book for problem 5.1 and Match the desired output as shown."
   ]
  },
  {
   "cell_type": "code",
   "execution_count": null,
   "metadata": {},
   "outputs": [],
   "source": [
    "## code :\n",
    "\n",
    "largest = None\n",
    "smallest = None\n",
    "while True:\n",
    "  \n",
    "    num = input(\"Enter a number: \")\n",
    "     \n",
    "    if num == \"done\" : break\n",
    "    \n",
    "    try:\n",
    "        inp = int(num)    \n",
    "    except:\n",
    "        print('Invalid input')\n",
    "\n",
    "    if inp > largest:\n",
    "        largest = inp\n",
    "    \n",
    "    if smallest is None:\n",
    "        smallest =inp\n",
    "    elif inp < smallest:\n",
    "        smallest = inp\n",
    "print(\"Maximum is\", largest)\n",
    "print(\"Minimum is\", smallest)"
   ]
  },
  {
   "cell_type": "code",
   "execution_count": null,
   "metadata": {},
   "outputs": [],
   "source": []
  }
 ],
 "metadata": {
  "kernelspec": {
   "display_name": "Python 3",
   "language": "python",
   "name": "python3"
  },
  "language_info": {
   "codemirror_mode": {
    "name": "ipython",
    "version": 3
   },
   "file_extension": ".py",
   "mimetype": "text/x-python",
   "name": "python",
   "nbconvert_exporter": "python",
   "pygments_lexer": "ipython3",
   "version": "3.7.7"
  }
 },
 "nbformat": 4,
 "nbformat_minor": 4
}
