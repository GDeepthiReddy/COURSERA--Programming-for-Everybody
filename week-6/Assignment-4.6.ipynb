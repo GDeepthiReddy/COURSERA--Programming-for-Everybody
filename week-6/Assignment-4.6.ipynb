{
 "cells": [
  {
   "cell_type": "markdown",
   "metadata": {},
   "source": [
    "#### Q-4.6 : Write a program to prompt the user for hours and rate per hour using raw_input to compute gross pay.\n",
    "#### Award time-and-a-half for the hourly rate for all hours worked above 40 hours. \n",
    "#### Put the logic to do thecomputation of time-and-a-half in a function called computepay() and use the function to do the computation. The function should return a value.\n",
    "- Use 45 hours and a rate of 10.50 per hour to test the program (the pay should be 498.75).\n",
    "- You should use raw_input to read a string and float() to convert the string to a number.\n",
    "- Do not worry about error checking the user input unlessyou want to - you can assume the user types numbers properly.\n",
    "- Do not name your variable sum or use the sum() function."
   ]
  },
  {
   "cell_type": "code",
   "execution_count": 1,
   "metadata": {},
   "outputs": [
    {
     "name": "stdout",
     "output_type": "stream",
     "text": [
      "Enter Hours:45\n",
      "Enter Rate:10.50\n",
      "498.75\n"
     ]
    }
   ],
   "source": [
    "# code :\n",
    "def computepay(h,r):\n",
    "    if h>40:\n",
    "        rate1 = (r*1.5)*(h-40)\n",
    "    return ((h-5)*r)+rate1\n",
    "\n",
    "hrs = float(input(\"Enter Hours:\"))\n",
    "rate = float(input(\"Enter Rate:\"))\n",
    "\n",
    "p = computepay(hrs,rate)\n",
    "print(p)"
   ]
  },
  {
   "cell_type": "code",
   "execution_count": null,
   "metadata": {},
   "outputs": [],
   "source": []
  }
 ],
 "metadata": {
  "kernelspec": {
   "display_name": "Python 3",
   "language": "python",
   "name": "python3"
  },
  "language_info": {
   "codemirror_mode": {
    "name": "ipython",
    "version": 3
   },
   "file_extension": ".py",
   "mimetype": "text/x-python",
   "name": "python",
   "nbconvert_exporter": "python",
   "pygments_lexer": "ipython3",
   "version": "3.7.7"
  }
 },
 "nbformat": 4,
 "nbformat_minor": 4
}
